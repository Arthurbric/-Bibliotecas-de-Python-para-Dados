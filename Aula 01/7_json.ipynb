{
  "cells": [
    {
      "cell_type": "markdown",
      "source": [
        "# Monitores:\n",
        "\n",
        "\n",
        "1.   Vitor Franco\n",
        "2.   [Arthur Arash](https://www.linkedin.com/in/arthur-arash-briceno-heidari/)\n",
        "3.   [Kaynan Souza](https://www.linkedin.com/in/kaynan-macedo-de-souza-9a3260231/)\n",
        "\n",
        "\n",
        "\n",
        "\n"
      ],
      "metadata": {
        "id": "kyQ8Z4FTVEzZ"
      }
    },
    {
      "cell_type": "markdown",
      "metadata": {
        "id": "9vqFB2ynuBIM"
      },
      "source": [
        "# json"
      ]
    },
    {
      "cell_type": "code",
      "execution_count": 1,
      "metadata": {
        "id": "eR7Nk92EuBIR"
      },
      "outputs": [],
      "source": [
        "import json"
      ]
    },
    {
      "cell_type": "code",
      "execution_count": 2,
      "metadata": {
        "id": "ZaHTwtByuBIT"
      },
      "outputs": [],
      "source": [
        "classroom = {\n",
        "            'name' : ['Ali', 'Arthur', 'Vitoria', 'Patricia', 'maryam', 'zahra'],\n",
        "            'score' : [12, 15, 18, 16, 14, 20],\n",
        "            'birthday' : ['1375', '1374', '1375', 'NONE' , '1376', '1373'],\n",
        "            'married' : ['yes', 'yes', 'NONE', 'no', 'NONE', 'no'],\n",
        "            'gender' : ['m', 'm', 'f', 'f', 'f', 'f']\n",
        "}\n",
        "#criamos um dictionario"
      ]
    },
    {
      "cell_type": "code",
      "execution_count": 3,
      "metadata": {
        "colab": {
          "base_uri": "https://localhost:8080/"
        },
        "id": "742sq302uBIU",
        "outputId": "141729d4-e737-4caf-e965-8738c67784be"
      },
      "outputs": [
        {
          "output_type": "execute_result",
          "data": {
            "text/plain": [
              "{'name': ['Ali', 'Arthur', 'Vitoria', 'Patricia', 'maryam', 'zahra'],\n",
              " 'score': [12, 15, 18, 16, 14, 20],\n",
              " 'birthday': ['1375', '1374', '1375', 'NONE', '1376', '1373'],\n",
              " 'married': ['yes', 'yes', 'NONE', 'no', 'NONE', 'no'],\n",
              " 'gender': ['m', 'm', 'f', 'f', 'f', 'f']}"
            ]
          },
          "metadata": {},
          "execution_count": 3
        }
      ],
      "source": [
        "classroom"
      ]
    },
    {
      "cell_type": "code",
      "source": [
        "from google.colab import drive\n",
        "drive.mount('/content/drive')"
      ],
      "metadata": {
        "colab": {
          "base_uri": "https://localhost:8080/"
        },
        "id": "BCfEtRH5v0kM",
        "outputId": "65bf2ed2-0b94-47f6-f367-6a612625bd41"
      },
      "execution_count": 4,
      "outputs": [
        {
          "output_type": "stream",
          "name": "stdout",
          "text": [
            "Mounted at /content/drive\n"
          ]
        }
      ]
    },
    {
      "cell_type": "code",
      "execution_count": 5,
      "metadata": {
        "id": "wXfhg5isuBIV"
      },
      "outputs": [],
      "source": [
        "f = open(file = \"drive/MyDrive/TXT_C_J/json_file.json\", mode='w')"
      ]
    },
    {
      "cell_type": "code",
      "execution_count": 6,
      "metadata": {
        "id": "NSPcv4ZVuBIW"
      },
      "outputs": [],
      "source": [
        "json.dump(classroom, f) #obj =  classroom // fp= f que abrimos"
      ]
    },
    {
      "cell_type": "code",
      "execution_count": 7,
      "metadata": {
        "id": "avyElSGGuBIW"
      },
      "outputs": [],
      "source": [
        "f.close()"
      ]
    },
    {
      "cell_type": "code",
      "execution_count": 8,
      "metadata": {
        "id": "jqJqyuAtuBIX"
      },
      "outputs": [],
      "source": [
        "with open(file = \"D:\\\\faradars\\\\files\\\\json_file.json\", mode='w') as f:\n",
        "    json.dump(classroom, f)"
      ]
    },
    {
      "cell_type": "code",
      "execution_count": 9,
      "metadata": {
        "id": "6CadJNX-uBIY"
      },
      "outputs": [],
      "source": [
        "with open(file = \"D:\\\\faradars\\\\files\\\\json_file.json\", mode='r') as f:\n",
        "    classroom1 = json.load(f)\n",
        "    #para ler \\READ usamos .load(nome do FP)"
      ]
    },
    {
      "cell_type": "code",
      "execution_count": null,
      "metadata": {
        "colab": {
          "base_uri": "https://localhost:8080/"
        },
        "id": "58q9JtC4uBIZ",
        "outputId": "db6fb40c-9e3e-4bd5-977d-cbc75b8d2355"
      },
      "outputs": [
        {
          "output_type": "execute_result",
          "data": {
            "text/plain": [
              "{'name': ['Ali', 'Arthur', 'Vitoria', 'Patricia', 'maryam', 'zahra'],\n",
              " 'score': [12, 15, 18, 16, 14, 20],\n",
              " 'birthday': ['1375', '1374', '1375', 'NONE', '1376', '1373'],\n",
              " 'married': ['yes', 'yes', 'NONE', 'no', 'NONE', 'no'],\n",
              " 'gender': ['m', 'm', 'f', 'f', 'f', 'f']}"
            ]
          },
          "metadata": {},
          "execution_count": 12
        }
      ],
      "source": [
        "classroom1"
      ]
    }
  ],
  "metadata": {
    "kernelspec": {
      "display_name": "Python 3",
      "language": "python",
      "name": "python3"
    },
    "language_info": {
      "codemirror_mode": {
        "name": "ipython",
        "version": 3
      },
      "file_extension": ".py",
      "mimetype": "text/x-python",
      "name": "python",
      "nbconvert_exporter": "python",
      "pygments_lexer": "ipython3",
      "version": "3.7.4"
    },
    "colab": {
      "provenance": []
    }
  },
  "nbformat": 4,
  "nbformat_minor": 0
}