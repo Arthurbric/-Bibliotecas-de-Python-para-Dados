{
  "cells": [
    {
      "cell_type": "markdown",
      "source": [
        "# Monitores:\n",
        "\n",
        "\n",
        "1.   Vitor Franco\n",
        "2.   [Arthur Arash](https://www.linkedin.com/in/arthur-arash-briceno-heidari/)\n",
        "3.   [Kaynan Souza](https://www.linkedin.com/in/kaynan-macedo-de-souza-9a3260231/)\n",
        "\n",
        "\n",
        "\n",
        "\n"
      ],
      "metadata": {
        "id": "kyQ8Z4FTVEzZ"
      }
    },
    {
      "cell_type": "markdown",
      "metadata": {
        "id": "9Qbx7ikdb29H"
      },
      "source": [
        "# dictionary"
      ]
    },
    {
      "cell_type": "code",
      "execution_count": null,
      "metadata": {
        "id": "ZMtNq2zJb29L"
      },
      "outputs": [],
      "source": [
        "dict1 = {'a':1, 45:'59'}"
      ]
    },
    {
      "cell_type": "code",
      "execution_count": null,
      "metadata": {
        "id": "5L4-SLKMb29N",
        "outputId": "b551835c-a3c8-47a9-a377-dca1d1467730",
        "colab": {
          "base_uri": "https://localhost:8080/"
        }
      },
      "outputs": [
        {
          "output_type": "execute_result",
          "data": {
            "text/plain": [
              "{'a': 1, 45: '59'}"
            ]
          },
          "metadata": {},
          "execution_count": 2
        }
      ],
      "source": [
        "dict1"
      ]
    },
    {
      "cell_type": "code",
      "execution_count": null,
      "metadata": {
        "id": "DvAtN42rb29O"
      },
      "outputs": [],
      "source": [
        "dict2 = {'home':'Casa', 'orange':'Laranja', 'pencil':'lápis', 'garden':'jardim'}"
      ]
    },
    {
      "cell_type": "code",
      "execution_count": null,
      "metadata": {
        "id": "PYsMlJ0zb29P",
        "outputId": "06158fdb-86df-4071-f892-caf1c3b05194",
        "colab": {
          "base_uri": "https://localhost:8080/"
        }
      },
      "outputs": [
        {
          "output_type": "execute_result",
          "data": {
            "text/plain": [
              "{'home': 'Casa', 'orange': 'Laranja', 'pencil': 'lápis', 'garden': 'jardim'}"
            ]
          },
          "metadata": {},
          "execution_count": 4
        }
      ],
      "source": [
        "dict2"
      ]
    },
    {
      "cell_type": "markdown",
      "metadata": {
        "id": "W5oc9SnLb29Q"
      },
      "source": [
        "# items"
      ]
    },
    {
      "cell_type": "code",
      "execution_count": null,
      "metadata": {
        "scrolled": true,
        "id": "5oUG2BjTb29R",
        "outputId": "9412bdfe-def2-4f41-8d7a-6aa97d2543ba",
        "colab": {
          "base_uri": "https://localhost:8080/"
        }
      },
      "outputs": [
        {
          "output_type": "execute_result",
          "data": {
            "text/plain": [
              "dict_items([('home', 'Casa'), ('orange', 'Laranja'), ('pencil', 'lápis'), ('garden', 'jardim')])"
            ]
          },
          "metadata": {},
          "execution_count": 5
        }
      ],
      "source": [
        "dict2.items()"
      ]
    },
    {
      "cell_type": "markdown",
      "metadata": {
        "id": "WT4y5k1Ob29S"
      },
      "source": [
        "# keys"
      ]
    },
    {
      "cell_type": "code",
      "execution_count": null,
      "metadata": {
        "id": "njqMKkcgb29T",
        "outputId": "65a9303b-05af-4870-bb63-3a3cb7c30242",
        "colab": {
          "base_uri": "https://localhost:8080/"
        }
      },
      "outputs": [
        {
          "output_type": "execute_result",
          "data": {
            "text/plain": [
              "dict_keys(['home', 'orange', 'pencil', 'garden'])"
            ]
          },
          "metadata": {},
          "execution_count": 6
        }
      ],
      "source": [
        "dict2.keys()"
      ]
    },
    {
      "cell_type": "markdown",
      "metadata": {
        "id": "C2LlVsC3b29U"
      },
      "source": [
        "# values"
      ]
    },
    {
      "cell_type": "code",
      "execution_count": null,
      "metadata": {
        "id": "YFkmPQWub29U",
        "outputId": "e259171b-a346-47b5-8f42-20f6c8a82ed1",
        "colab": {
          "base_uri": "https://localhost:8080/"
        }
      },
      "outputs": [
        {
          "output_type": "execute_result",
          "data": {
            "text/plain": [
              "dict_values(['Casa', 'Laranja', 'lápis', 'jardim'])"
            ]
          },
          "metadata": {},
          "execution_count": 7
        }
      ],
      "source": [
        "dict2.values()"
      ]
    },
    {
      "cell_type": "markdown",
      "metadata": {
        "id": "hTu6goS7b29V"
      },
      "source": [
        "# get"
      ]
    },
    {
      "cell_type": "code",
      "execution_count": null,
      "metadata": {
        "id": "ry9SNc8Rb29V",
        "outputId": "cfdcfdeb-9fa2-4678-da4f-3d9f4be19bdc",
        "colab": {
          "base_uri": "https://localhost:8080/",
          "height": 36
        }
      },
      "outputs": [
        {
          "output_type": "execute_result",
          "data": {
            "text/plain": [
              "'Laranja'"
            ],
            "application/vnd.google.colaboratory.intrinsic+json": {
              "type": "string"
            }
          },
          "metadata": {},
          "execution_count": 8
        }
      ],
      "source": [
        "dict2.get('orange')"
      ]
    },
    {
      "cell_type": "code",
      "execution_count": null,
      "metadata": {
        "id": "Dv78UnE7b29W",
        "outputId": "aec1b393-49d8-4fce-f97d-f2f4b5d2f1db",
        "colab": {
          "base_uri": "https://localhost:8080/",
          "height": 36
        }
      },
      "outputs": [
        {
          "output_type": "execute_result",
          "data": {
            "text/plain": [
              "'Laranja'"
            ],
            "application/vnd.google.colaboratory.intrinsic+json": {
              "type": "string"
            }
          },
          "metadata": {},
          "execution_count": 9
        }
      ],
      "source": [
        "dict2['orange']"
      ]
    },
    {
      "cell_type": "code",
      "execution_count": null,
      "metadata": {
        "id": "eFgrhPrab29W",
        "outputId": "64f84e7d-e4c7-44b1-c23b-b007fe1da551",
        "colab": {
          "base_uri": "https://localhost:8080/",
          "height": 175
        }
      },
      "outputs": [
        {
          "output_type": "error",
          "ename": "KeyError",
          "evalue": "ignored",
          "traceback": [
            "\u001b[0;31m---------------------------------------------------------------------------\u001b[0m",
            "\u001b[0;31mKeyError\u001b[0m                                  Traceback (most recent call last)",
            "\u001b[0;32m<ipython-input-10-200799b221c1>\u001b[0m in \u001b[0;36m<cell line: 1>\u001b[0;34m()\u001b[0m\n\u001b[0;32m----> 1\u001b[0;31m \u001b[0mdict2\u001b[0m\u001b[0;34m[\u001b[0m\u001b[0;34m'library'\u001b[0m\u001b[0;34m]\u001b[0m\u001b[0;34m\u001b[0m\u001b[0;34m\u001b[0m\u001b[0m\n\u001b[0m",
            "\u001b[0;31mKeyError\u001b[0m: 'library'"
          ]
        }
      ],
      "source": [
        "dict2['library']"
      ]
    },
    {
      "cell_type": "code",
      "execution_count": null,
      "metadata": {
        "id": "7R4jQem7b29W"
      },
      "outputs": [],
      "source": [
        "dict2.get('library')"
      ]
    },
    {
      "cell_type": "code",
      "execution_count": null,
      "metadata": {
        "id": "eaSRK0gMb29X",
        "outputId": "841a2d7d-521b-46a8-bb86-40fb95a7f24e",
        "colab": {
          "base_uri": "https://localhost:8080/",
          "height": 36
        }
      },
      "outputs": [
        {
          "output_type": "execute_result",
          "data": {
            "text/plain": [
              "'This key is not in dictionary'"
            ],
            "application/vnd.google.colaboratory.intrinsic+json": {
              "type": "string"
            }
          },
          "metadata": {},
          "execution_count": 12
        }
      ],
      "source": [
        "dict2.get('library', 'This key is not in dictionary')"
      ]
    },
    {
      "cell_type": "markdown",
      "metadata": {
        "id": "0JzLJgTcb29X"
      },
      "source": [
        "# has a key in dict"
      ]
    },
    {
      "cell_type": "code",
      "execution_count": null,
      "metadata": {
        "id": "yfJGlQ4mb29X",
        "outputId": "278275d2-90e3-4b7c-950f-4ee12879374c",
        "colab": {
          "base_uri": "https://localhost:8080/"
        }
      },
      "outputs": [
        {
          "output_type": "execute_result",
          "data": {
            "text/plain": [
              "{'home': 'Casa', 'orange': 'Laranja', 'pencil': 'lápis', 'garden': 'jardim'}"
            ]
          },
          "metadata": {},
          "execution_count": 13
        }
      ],
      "source": [
        "dict2"
      ]
    },
    {
      "cell_type": "code",
      "execution_count": null,
      "metadata": {
        "id": "X2pv77oTb29Y",
        "outputId": "1867c8e7-383f-4118-c89c-c17a02a65c50",
        "colab": {
          "base_uri": "https://localhost:8080/"
        }
      },
      "outputs": [
        {
          "output_type": "execute_result",
          "data": {
            "text/plain": [
              "False"
            ]
          },
          "metadata": {},
          "execution_count": 14
        }
      ],
      "source": [
        "'biblioteca' in dict2 #key chaves"
      ]
    },
    {
      "cell_type": "code",
      "execution_count": null,
      "metadata": {
        "id": "QIittOOCb29Y",
        "outputId": "cb19a8eb-7383-477d-beab-9f166b6e89dc",
        "colab": {
          "base_uri": "https://localhost:8080/"
        }
      },
      "outputs": [
        {
          "output_type": "execute_result",
          "data": {
            "text/plain": [
              "False"
            ]
          },
          "metadata": {},
          "execution_count": 15
        }
      ],
      "source": [
        "'Laranja' in dict2 #key chaves"
      ]
    },
    {
      "cell_type": "code",
      "execution_count": null,
      "metadata": {
        "id": "uPr3eLgrb29Z",
        "outputId": "a8c2a450-2e18-41b1-fd22-47454bf34a94",
        "colab": {
          "base_uri": "https://localhost:8080/"
        }
      },
      "outputs": [
        {
          "output_type": "execute_result",
          "data": {
            "text/plain": [
              "True"
            ]
          },
          "metadata": {},
          "execution_count": 16
        }
      ],
      "source": [
        "'orange' in dict2"
      ]
    },
    {
      "cell_type": "code",
      "execution_count": null,
      "metadata": {
        "id": "W-DoHJUTb29Z",
        "outputId": "b71c3c82-b062-442b-94b7-7db8a4c95d81",
        "colab": {
          "base_uri": "https://localhost:8080/"
        }
      },
      "outputs": [
        {
          "output_type": "execute_result",
          "data": {
            "text/plain": [
              "False"
            ]
          },
          "metadata": {},
          "execution_count": 17
        }
      ],
      "source": [
        "'library' in dict2"
      ]
    },
    {
      "cell_type": "markdown",
      "metadata": {
        "id": "_PeieWuRb29a"
      },
      "source": [
        "# copy"
      ]
    },
    {
      "cell_type": "code",
      "execution_count": null,
      "metadata": {
        "id": "tV0ZLw8Sb29a",
        "outputId": "5ba92e2c-b27a-42ee-d7f5-310e6d8a3842",
        "colab": {
          "base_uri": "https://localhost:8080/"
        }
      },
      "outputs": [
        {
          "output_type": "execute_result",
          "data": {
            "text/plain": [
              "{'home': 'Casa', 'orange': 'Laranja', 'pencil': 'lápis', 'garden': 'jardim'}"
            ]
          },
          "metadata": {},
          "execution_count": 18
        }
      ],
      "source": [
        "dict2"
      ]
    },
    {
      "cell_type": "code",
      "execution_count": null,
      "metadata": {
        "id": "-Bl3sSbEb29a"
      },
      "outputs": [],
      "source": [
        "dict3 = dict2.copy()"
      ]
    },
    {
      "cell_type": "code",
      "execution_count": null,
      "metadata": {
        "id": "MMBG3SjFb29a",
        "outputId": "9d25ed38-6f35-44fa-ce97-00cbf6f1f4af",
        "colab": {
          "base_uri": "https://localhost:8080/"
        }
      },
      "outputs": [
        {
          "output_type": "execute_result",
          "data": {
            "text/plain": [
              "{'home': 'Casa', 'orange': 'Laranja', 'pencil': 'lápis', 'garden': 'jardim'}"
            ]
          },
          "metadata": {},
          "execution_count": 20
        }
      ],
      "source": [
        "dict3"
      ]
    },
    {
      "cell_type": "code",
      "execution_count": null,
      "metadata": {
        "id": "16ofdbmGb29a"
      },
      "outputs": [],
      "source": [
        "dict4 = dict2"
      ]
    },
    {
      "cell_type": "code",
      "execution_count": null,
      "metadata": {
        "id": "nYHcXdSwb29b",
        "outputId": "f2ba033d-5295-48d4-d939-1599db501b53",
        "colab": {
          "base_uri": "https://localhost:8080/"
        }
      },
      "outputs": [
        {
          "output_type": "execute_result",
          "data": {
            "text/plain": [
              "{'home': 'Casa', 'orange': 'Laranja', 'pencil': 'lápis', 'garden': 'jardim'}"
            ]
          },
          "metadata": {},
          "execution_count": 22
        }
      ],
      "source": [
        "dict4"
      ]
    },
    {
      "cell_type": "code",
      "execution_count": null,
      "metadata": {
        "id": "6gOjJ9nmb29b"
      },
      "outputs": [],
      "source": [
        "dict2['garden'] = 'parque de flores'"
      ]
    },
    {
      "cell_type": "code",
      "execution_count": null,
      "metadata": {
        "id": "RaMKXBNZb29b",
        "outputId": "01a58a4f-fdfd-41c6-b6c2-07ac9ec7a4e7",
        "colab": {
          "base_uri": "https://localhost:8080/"
        }
      },
      "outputs": [
        {
          "output_type": "execute_result",
          "data": {
            "text/plain": [
              "{'home': 'Casa',\n",
              " 'orange': 'Laranja',\n",
              " 'pencil': 'lápis',\n",
              " 'garden': 'parque de flores'}"
            ]
          },
          "metadata": {},
          "execution_count": 28
        }
      ],
      "source": [
        "dict2"
      ]
    },
    {
      "cell_type": "code",
      "execution_count": null,
      "metadata": {
        "id": "iLb4wDw6b29b",
        "outputId": "aaaaaffa-4c9a-4337-ae94-d42ca6663cbf",
        "colab": {
          "base_uri": "https://localhost:8080/"
        }
      },
      "outputs": [
        {
          "output_type": "execute_result",
          "data": {
            "text/plain": [
              "{'home': 'Casa', 'orange': 'Laranja', 'pencil': 'lápis', 'garden': 'jardim'}"
            ]
          },
          "metadata": {},
          "execution_count": 29
        }
      ],
      "source": [
        "dict3"
      ]
    },
    {
      "cell_type": "code",
      "execution_count": null,
      "metadata": {
        "id": "e7aprIwHb29b",
        "outputId": "066d66ab-8a6c-433d-dd91-0fca506d511f",
        "colab": {
          "base_uri": "https://localhost:8080/"
        }
      },
      "outputs": [
        {
          "output_type": "execute_result",
          "data": {
            "text/plain": [
              "{'home': 'Casa',\n",
              " 'orange': 'Laranja',\n",
              " 'pencil': 'lápis',\n",
              " 'garden': 'parque de flores'}"
            ]
          },
          "metadata": {},
          "execution_count": 30
        }
      ],
      "source": [
        "dict4"
      ]
    },
    {
      "cell_type": "markdown",
      "metadata": {
        "id": "rW0JWlBob29c"
      },
      "source": [
        "# clear"
      ]
    },
    {
      "cell_type": "code",
      "execution_count": null,
      "metadata": {
        "id": "Y3Td-2aZb29c"
      },
      "outputs": [],
      "source": [
        "dict5 = {'home':'Casa', 'orange':'Laranja', 'pencil':'lápis', 'garden':'jardim'}"
      ]
    },
    {
      "cell_type": "code",
      "execution_count": null,
      "metadata": {
        "id": "nmIkX8XMb29c",
        "outputId": "56a661ed-fe8f-4cf6-cc28-3c74d736e46e",
        "colab": {
          "base_uri": "https://localhost:8080/"
        }
      },
      "outputs": [
        {
          "output_type": "execute_result",
          "data": {
            "text/plain": [
              "{'home': 'Casa', 'orange': 'Laranja', 'pencil': 'lápis', 'garden': 'jardim'}"
            ]
          },
          "metadata": {},
          "execution_count": 33
        }
      ],
      "source": [
        "dict5"
      ]
    },
    {
      "cell_type": "code",
      "execution_count": null,
      "metadata": {
        "id": "Hb6OIFxXb29c"
      },
      "outputs": [],
      "source": [
        "dict5.clear()"
      ]
    },
    {
      "cell_type": "code",
      "execution_count": null,
      "metadata": {
        "id": "c-RxUO0ob29c",
        "outputId": "2320f60d-e3ac-40b3-9401-6a040fd6088f",
        "colab": {
          "base_uri": "https://localhost:8080/"
        }
      },
      "outputs": [
        {
          "output_type": "execute_result",
          "data": {
            "text/plain": [
              "{}"
            ]
          },
          "metadata": {},
          "execution_count": 35
        }
      ],
      "source": [
        "dict5"
      ]
    },
    {
      "cell_type": "code",
      "execution_count": null,
      "metadata": {
        "id": "Ce5KT6abb29d",
        "outputId": "9f66420f-ee25-4fd2-e4db-4f57ac84e7ae",
        "colab": {
          "base_uri": "https://localhost:8080/"
        }
      },
      "outputs": [
        {
          "output_type": "execute_result",
          "data": {
            "text/plain": [
              "dict"
            ]
          },
          "metadata": {},
          "execution_count": 36
        }
      ],
      "source": [
        "type(dict5)"
      ]
    }
  ],
  "metadata": {
    "kernelspec": {
      "display_name": "Python 3",
      "language": "python",
      "name": "python3"
    },
    "language_info": {
      "codemirror_mode": {
        "name": "ipython",
        "version": 3
      },
      "file_extension": ".py",
      "mimetype": "text/x-python",
      "name": "python",
      "nbconvert_exporter": "python",
      "pygments_lexer": "ipython3",
      "version": "3.7.4"
    },
    "colab": {
      "provenance": []
    }
  },
  "nbformat": 4,
  "nbformat_minor": 0
}