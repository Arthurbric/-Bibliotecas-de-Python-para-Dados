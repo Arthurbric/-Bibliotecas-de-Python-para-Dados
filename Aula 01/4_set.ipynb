{
  "cells": [
    {
      "cell_type": "markdown",
      "source": [
        "# Monitores:\n",
        "\n",
        "\n",
        "1.   Vitor Franco\n",
        "2.   [Arthur Arash](https://www.linkedin.com/in/arthur-arash-briceno-heidari/)\n",
        "3.   [Kaynan Souza](https://www.linkedin.com/in/kaynan-macedo-de-souza-9a3260231/)\n",
        "\n",
        "\n",
        "\n",
        "\n"
      ],
      "metadata": {
        "id": "kyQ8Z4FTVEzZ"
      }
    },
    {
      "cell_type": "markdown",
      "metadata": {
        "id": "DcCHybAAdODw"
      },
      "source": [
        "# set"
      ]
    },
    {
      "cell_type": "code",
      "execution_count": null,
      "metadata": {
        "id": "IxOylmgGdODz"
      },
      "outputs": [],
      "source": [
        "set1 = {1,2,3,4,5}"
      ]
    },
    {
      "cell_type": "code",
      "execution_count": null,
      "metadata": {
        "colab": {
          "base_uri": "https://localhost:8080/"
        },
        "id": "hM4Ap2XedOD1",
        "outputId": "922d5aeb-febc-4a99-99d3-ed17e7f1b174"
      },
      "outputs": [
        {
          "output_type": "execute_result",
          "data": {
            "text/plain": [
              "set"
            ]
          },
          "metadata": {},
          "execution_count": 2
        }
      ],
      "source": [
        "type(set1)"
      ]
    },
    {
      "cell_type": "code",
      "execution_count": null,
      "metadata": {
        "id": "pX1Zx4KadOD2"
      },
      "outputs": [],
      "source": [
        "set2 = {1,1,1,2,2,3,4,4,4,5,5}"
      ]
    },
    {
      "cell_type": "code",
      "execution_count": null,
      "metadata": {
        "colab": {
          "base_uri": "https://localhost:8080/"
        },
        "id": "UCkwoHqrdOD2",
        "outputId": "18beb9ac-0f08-4d27-e0da-8b05f6a39a9e"
      },
      "outputs": [
        {
          "output_type": "execute_result",
          "data": {
            "text/plain": [
              "{1, 2, 3, 4, 5}"
            ]
          },
          "metadata": {},
          "execution_count": 4
        }
      ],
      "source": [
        "set2"
      ]
    },
    {
      "cell_type": "code",
      "execution_count": null,
      "metadata": {
        "id": "tyev_wxedOD3"
      },
      "outputs": [],
      "source": [
        "list1 = [1,1,1,2,2,3,4,4,4,5,5]"
      ]
    },
    {
      "cell_type": "code",
      "execution_count": null,
      "metadata": {
        "colab": {
          "base_uri": "https://localhost:8080/"
        },
        "id": "-1uA9K5ydOD3",
        "outputId": "09e207bd-e80d-4130-f25e-39ce86d45fd1"
      },
      "outputs": [
        {
          "output_type": "execute_result",
          "data": {
            "text/plain": [
              "[1, 1, 1, 2, 2, 3, 4, 4, 4, 5, 5]"
            ]
          },
          "metadata": {},
          "execution_count": 6
        }
      ],
      "source": [
        "list1"
      ]
    },
    {
      "cell_type": "code",
      "execution_count": null,
      "metadata": {
        "colab": {
          "base_uri": "https://localhost:8080/"
        },
        "id": "qpZhfyMAdOD4",
        "outputId": "d440d9b7-ae88-4386-9f4b-83cd97997db9"
      },
      "outputs": [
        {
          "output_type": "execute_result",
          "data": {
            "text/plain": [
              "[1, 2, 3, 4, 5]"
            ]
          },
          "metadata": {},
          "execution_count": 7
        }
      ],
      "source": [
        "list(set(list1))"
      ]
    },
    {
      "cell_type": "code",
      "execution_count": null,
      "metadata": {
        "id": "CQKSkxVVdOD5"
      },
      "outputs": [],
      "source": [
        "set1 = {1,2,3,4,5}\n",
        "set2 = {4,5,6,7,8}"
      ]
    },
    {
      "cell_type": "markdown",
      "metadata": {
        "id": "4ANHOvpLdOD6"
      },
      "source": [
        "# difference"
      ]
    },
    {
      "cell_type": "code",
      "execution_count": null,
      "metadata": {
        "colab": {
          "base_uri": "https://localhost:8080/"
        },
        "id": "lDu6EjGydOD7",
        "outputId": "a392ef45-d0d2-4c95-d281-85e0cf98c947"
      },
      "outputs": [
        {
          "output_type": "execute_result",
          "data": {
            "text/plain": [
              "{1, 2, 3}"
            ]
          },
          "metadata": {},
          "execution_count": 9
        }
      ],
      "source": [
        "set1-set2"
      ]
    },
    {
      "cell_type": "code",
      "execution_count": null,
      "metadata": {
        "colab": {
          "base_uri": "https://localhost:8080/"
        },
        "id": "eet9TQUsdOD8",
        "outputId": "6988f27e-f4df-413f-9f00-4f67b14c6d7e"
      },
      "outputs": [
        {
          "output_type": "execute_result",
          "data": {
            "text/plain": [
              "{1, 2, 3}"
            ]
          },
          "metadata": {},
          "execution_count": 10
        }
      ],
      "source": [
        "set1.difference(set2)"
      ]
    },
    {
      "cell_type": "code",
      "source": [
        "print(set1)"
      ],
      "metadata": {
        "colab": {
          "base_uri": "https://localhost:8080/"
        },
        "id": "KY_Z1SgNe7Ys",
        "outputId": "c3057319-090c-4ba5-adb9-098187b9dfb8"
      },
      "execution_count": null,
      "outputs": [
        {
          "output_type": "stream",
          "name": "stdout",
          "text": [
            "{1, 2, 3, 4, 5}\n"
          ]
        }
      ]
    },
    {
      "cell_type": "code",
      "execution_count": null,
      "metadata": {
        "colab": {
          "base_uri": "https://localhost:8080/"
        },
        "id": "6Vuy6OXMdOD8",
        "outputId": "f2c3983f-33b6-4da7-8f84-404fd5b27849"
      },
      "outputs": [
        {
          "output_type": "execute_result",
          "data": {
            "text/plain": [
              "{6, 7, 8}"
            ]
          },
          "metadata": {},
          "execution_count": 12
        }
      ],
      "source": [
        "set2-set1"
      ]
    },
    {
      "cell_type": "code",
      "execution_count": null,
      "metadata": {
        "colab": {
          "base_uri": "https://localhost:8080/"
        },
        "id": "4JeqielxdOD9",
        "outputId": "addbc7bc-6ce4-4039-a04c-204fc683c721"
      },
      "outputs": [
        {
          "output_type": "execute_result",
          "data": {
            "text/plain": [
              "{6, 7, 8}"
            ]
          },
          "metadata": {},
          "execution_count": 13
        }
      ],
      "source": [
        "set2.difference(set1)"
      ]
    },
    {
      "cell_type": "markdown",
      "metadata": {
        "id": "z5hX17EOdOD9"
      },
      "source": [
        "# add"
      ]
    },
    {
      "cell_type": "code",
      "execution_count": null,
      "metadata": {
        "id": "mTMkfiWldOD9"
      },
      "outputs": [],
      "source": [
        "set3 = {1,2,3,4,5,6,7}"
      ]
    },
    {
      "cell_type": "code",
      "execution_count": null,
      "metadata": {
        "colab": {
          "base_uri": "https://localhost:8080/"
        },
        "id": "pbzI6HANdOD-",
        "outputId": "8fbec75f-4982-4a47-9fa9-6c2a30a183d4"
      },
      "outputs": [
        {
          "output_type": "execute_result",
          "data": {
            "text/plain": [
              "{1, 2, 3, 4, 5, 6, 7}"
            ]
          },
          "metadata": {},
          "execution_count": 15
        }
      ],
      "source": [
        "set3"
      ]
    },
    {
      "cell_type": "code",
      "execution_count": null,
      "metadata": {
        "id": "FQLF8Re_dOD-"
      },
      "outputs": [],
      "source": [
        "set3.add(50)"
      ]
    },
    {
      "cell_type": "code",
      "execution_count": null,
      "metadata": {
        "colab": {
          "base_uri": "https://localhost:8080/"
        },
        "id": "tzKu5VqgdOD_",
        "outputId": "eb8cfeed-8d03-4445-8cd6-8c22b43786a5"
      },
      "outputs": [
        {
          "output_type": "execute_result",
          "data": {
            "text/plain": [
              "{1, 2, 3, 4, 5, 6, 7, 50}"
            ]
          },
          "metadata": {},
          "execution_count": 17
        }
      ],
      "source": [
        "set3"
      ]
    },
    {
      "cell_type": "markdown",
      "metadata": {
        "id": "u0BUBn4EdOD_"
      },
      "source": [
        "# discard"
      ]
    },
    {
      "cell_type": "code",
      "execution_count": null,
      "metadata": {
        "colab": {
          "base_uri": "https://localhost:8080/"
        },
        "id": "CHkcg1jtdOD_",
        "outputId": "6d93ac18-20bd-4890-ac4b-2b4676c1f1ae"
      },
      "outputs": [
        {
          "output_type": "execute_result",
          "data": {
            "text/plain": [
              "{1, 2, 3, 4, 5, 6, 7, 50}"
            ]
          },
          "metadata": {},
          "execution_count": 18
        }
      ],
      "source": [
        "set3"
      ]
    },
    {
      "cell_type": "code",
      "execution_count": null,
      "metadata": {
        "id": "11vkAGwzdOEA"
      },
      "outputs": [],
      "source": [
        "set3.discard(50)"
      ]
    },
    {
      "cell_type": "code",
      "execution_count": null,
      "metadata": {
        "colab": {
          "base_uri": "https://localhost:8080/"
        },
        "id": "4L07BNyrdOEA",
        "outputId": "4afc6d9a-e72e-495f-ab46-e29f844ad5d1"
      },
      "outputs": [
        {
          "output_type": "execute_result",
          "data": {
            "text/plain": [
              "{1, 2, 3, 4, 5, 6, 7}"
            ]
          },
          "metadata": {},
          "execution_count": 20
        }
      ],
      "source": [
        "set3"
      ]
    },
    {
      "cell_type": "code",
      "execution_count": null,
      "metadata": {
        "id": "EGYWR0uqdOEA"
      },
      "outputs": [],
      "source": [
        "set3.discard(20)"
      ]
    },
    {
      "cell_type": "code",
      "execution_count": null,
      "metadata": {
        "colab": {
          "base_uri": "https://localhost:8080/"
        },
        "id": "URCS6SYcdOEB",
        "outputId": "4b95b489-3176-4ba1-d511-255d636f5bdd"
      },
      "outputs": [
        {
          "output_type": "execute_result",
          "data": {
            "text/plain": [
              "{1, 2, 3, 4, 5, 6, 7}"
            ]
          },
          "metadata": {},
          "execution_count": 25
        }
      ],
      "source": [
        "set3"
      ]
    },
    {
      "cell_type": "markdown",
      "metadata": {
        "id": "QCFmsAkfdOEB"
      },
      "source": [
        "# intersection\n",
        "## interseção"
      ]
    },
    {
      "cell_type": "code",
      "execution_count": null,
      "metadata": {
        "id": "L9fmytQ-dOEB"
      },
      "outputs": [],
      "source": [
        "set1 = {1,2,3,4,5}\n",
        "set2 = {4,5,6,7,8}"
      ]
    },
    {
      "cell_type": "code",
      "execution_count": null,
      "metadata": {
        "colab": {
          "base_uri": "https://localhost:8080/"
        },
        "id": "ycZJd6yjdOEB",
        "outputId": "f7f608dc-6dae-44b2-c6b9-44912309a3b2"
      },
      "outputs": [
        {
          "output_type": "execute_result",
          "data": {
            "text/plain": [
              "{4, 5}"
            ]
          },
          "metadata": {},
          "execution_count": 27
        }
      ],
      "source": [
        "set1.intersection(set2)"
      ]
    },
    {
      "cell_type": "markdown",
      "metadata": {
        "id": "7LPmPSTkdOEB"
      },
      "source": [
        "# union"
      ]
    },
    {
      "cell_type": "code",
      "execution_count": null,
      "metadata": {
        "colab": {
          "base_uri": "https://localhost:8080/"
        },
        "id": "nnituT7SdOEC",
        "outputId": "fe090dae-1d3d-4c1d-f1b2-d13e1270190b"
      },
      "outputs": [
        {
          "output_type": "execute_result",
          "data": {
            "text/plain": [
              "{1, 2, 3, 4, 5, 6, 7, 8}"
            ]
          },
          "metadata": {},
          "execution_count": 29
        }
      ],
      "source": [
        "set1.union(set2)"
      ]
    },
    {
      "cell_type": "markdown",
      "metadata": {
        "id": "5HLdKBQrdOEC"
      },
      "source": [
        "# remove"
      ]
    },
    {
      "cell_type": "code",
      "execution_count": null,
      "metadata": {
        "id": "f4_8XGPZdOEC"
      },
      "outputs": [],
      "source": [
        "set4 = {'a', 'b', 1, 2, 3, 'ali', 8.49}"
      ]
    },
    {
      "cell_type": "code",
      "source": [
        "set4"
      ],
      "metadata": {
        "colab": {
          "base_uri": "https://localhost:8080/"
        },
        "id": "Exwl6vlEEIx-",
        "outputId": "707462a9-9419-4311-c53b-7030e0d68bd9"
      },
      "execution_count": null,
      "outputs": [
        {
          "output_type": "execute_result",
          "data": {
            "text/plain": [
              "{1, 2, 3, 8.49, 'a', 'ali', 'b'}"
            ]
          },
          "metadata": {},
          "execution_count": 36
        }
      ]
    },
    {
      "cell_type": "code",
      "execution_count": null,
      "metadata": {
        "id": "tIx7MSdQdOEC"
      },
      "outputs": [],
      "source": [
        "set4.remove('ali')"
      ]
    },
    {
      "cell_type": "code",
      "execution_count": null,
      "metadata": {
        "colab": {
          "base_uri": "https://localhost:8080/"
        },
        "id": "TlIfKz3wdOED",
        "outputId": "cabb30b0-8d50-41b0-a747-324e94755696"
      },
      "outputs": [
        {
          "output_type": "execute_result",
          "data": {
            "text/plain": [
              "{1, 2, 3, 8.49, 'a', 'b'}"
            ]
          },
          "metadata": {},
          "execution_count": 39
        }
      ],
      "source": [
        "set4"
      ]
    },
    {
      "cell_type": "code",
      "execution_count": null,
      "metadata": {
        "id": "SXDG1XALdOED"
      },
      "outputs": [],
      "source": [
        "set5 = {'a', 'b', 1, 2, 3, 'ali', 8.49}"
      ]
    },
    {
      "cell_type": "code",
      "execution_count": null,
      "metadata": {
        "colab": {
          "base_uri": "https://localhost:8080/",
          "height": 175
        },
        "id": "AzVKwQX6dOED",
        "outputId": "0d30dd78-57b2-4ae3-e51d-fcf81719bbb4"
      },
      "outputs": [
        {
          "output_type": "error",
          "ename": "KeyError",
          "evalue": "ignored",
          "traceback": [
            "\u001b[0;31m---------------------------------------------------------------------------\u001b[0m",
            "\u001b[0;31mKeyError\u001b[0m                                  Traceback (most recent call last)",
            "\u001b[0;32m<ipython-input-41-da867e0a7791>\u001b[0m in \u001b[0;36m<cell line: 1>\u001b[0;34m()\u001b[0m\n\u001b[0;32m----> 1\u001b[0;31m \u001b[0mset5\u001b[0m\u001b[0;34m.\u001b[0m\u001b[0mremove\u001b[0m\u001b[0;34m(\u001b[0m\u001b[0;36m20\u001b[0m\u001b[0;34m)\u001b[0m \u001b[0;31m#discard no error\u001b[0m\u001b[0;34m\u001b[0m\u001b[0;34m\u001b[0m\u001b[0m\n\u001b[0m",
            "\u001b[0;31mKeyError\u001b[0m: 20"
          ]
        }
      ],
      "source": [
        "set5.remove(20) #discard no error"
      ]
    }
  ],
  "metadata": {
    "kernelspec": {
      "display_name": "Python 3",
      "language": "python",
      "name": "python3"
    },
    "language_info": {
      "codemirror_mode": {
        "name": "ipython",
        "version": 3
      },
      "file_extension": ".py",
      "mimetype": "text/x-python",
      "name": "python",
      "nbconvert_exporter": "python",
      "pygments_lexer": "ipython3",
      "version": "3.7.4"
    },
    "colab": {
      "provenance": []
    }
  },
  "nbformat": 4,
  "nbformat_minor": 0
}