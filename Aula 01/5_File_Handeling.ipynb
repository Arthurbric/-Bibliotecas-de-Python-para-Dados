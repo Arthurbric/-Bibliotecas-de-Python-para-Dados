{
  "cells": [
    {
      "cell_type": "markdown",
      "source": [
        "# Monitores:\n",
        "\n",
        "\n",
        "1.   Vitor Franco\n",
        "2.   [Arthur Arash](https://www.linkedin.com/in/arthur-arash-briceno-heidari/)\n",
        "3.   [Kaynan Souza](https://www.linkedin.com/in/kaynan-macedo-de-souza-9a3260231/)\n",
        "\n",
        "\n",
        "\n",
        "\n"
      ],
      "metadata": {
        "id": "kyQ8Z4FTVEzZ"
      }
    },
    {
      "cell_type": "markdown",
      "source": [
        "<h3>\n",
        "To open the file in write mode: mode='w' <br>\n",
        "To open the file in append mode: mode='a'<br>\n",
        "To open the file in binary read mode: mode='rb'<br>\n",
        "To open the file in read and write mode: mode='r+'<br>\n",
        "To open the file in write and read mode: mode='w+'<br>\n",
        "To open the file in exclusive creation mode: mode='x'\n",
        "</h3>\n",
        "<h6>\n",
        "f = open <mark>(file=\"D:\\\\Arthur\\\\files\\\\txt_file.txt\", mode='w')</mark> #para escrever ((Write))\n",
        "f.write('HELLO WORLD')\n",
        "f.close()\n",
        "</h6>\n",
        "\n"
      ],
      "metadata": {
        "id": "TwubDqtan4Z5"
      }
    },
    {
      "cell_type": "code",
      "execution_count": 1,
      "metadata": {
        "id": "MOzF9f43mxZ0"
      },
      "outputs": [],
      "source": [
        "#f = open(\"D:\\\\Arthur\\\\files\\\\txt_file.txt\", 'w') \\\\ para escrever o indereco do lugar o pode escrever no inicio r\"indereso normal \\ ajdnasnda\\\"\n",
        "f = open(\"Arthur.txt\", 'w') #para escrever ((Write))\n",
        "f.write('HELLO WORLD')\n",
        "f.close()"
      ]
    },
    {
      "cell_type": "code",
      "execution_count": 2,
      "metadata": {
        "id": "mi70FH6imxZ3"
      },
      "outputs": [],
      "source": [
        "\n",
        "#para na escrever \\\\  da para escrever r '' assim\n",
        "f = open(r\"D:\\Arthur\\files\\txt_file.txt\", 'w') #para escrever ((Write))\n",
        "f.write('HELLO WORLD')\n",
        "f.close()"
      ]
    },
    {
      "cell_type": "code",
      "execution_count": 3,
      "metadata": {
        "id": "W0_klLPJmxZ4"
      },
      "outputs": [],
      "source": [
        "f = open(\"D:\\\\Arthur\\\\files\\\\txt_file.txt\", 'a') #para adicionar ((append))\n",
        "f.write('\\nAdicionar Uma Nova Linha ((Append))')\n",
        "f.close()"
      ]
    },
    {
      "cell_type": "code",
      "execution_count": 4,
      "metadata": {
        "id": "QXXNP0_1mxZ4"
      },
      "outputs": [],
      "source": [
        "f = open(\"D:\\\\Arthur\\\\files\\\\txt_file.txt\", 'wb') #par escrever em bit ((write in bit))"
      ]
    },
    {
      "cell_type": "code",
      "source": [
        "#comando do Linux\n",
        "!mkdir sample"
      ],
      "metadata": {
        "id": "e4hM0K0afcs5"
      },
      "execution_count": 5,
      "outputs": []
    },
    {
      "cell_type": "code",
      "execution_count": 6,
      "metadata": {
        "id": "J0BcUBd5mxZ5"
      },
      "outputs": [],
      "source": [
        "with open(\"sample/Kaynan.csv\", 'w') as f: #Para entrar no arqivo\n",
        "    f.write('Python Intermediario ')"
      ]
    },
    {
      "cell_type": "code",
      "execution_count": 7,
      "metadata": {
        "id": "hn8PYjLWmxZ6"
      },
      "outputs": [],
      "source": [
        "with open(file=\"ArthurKaynan.txt\", mode='w', encoding='utf-8') as f:  #para aceitar tudo  entender melhor\n",
        "    for i in range(200):\n",
        "        f.write('آرتور_کاینان' + str(i+1) + '\\n')"
      ]
    },
    {
      "cell_type": "code",
      "source": [
        "with open(file=\"Vitor.text\", mode=\"w\") as happy:\n",
        "  for i in range(50):\n",
        "    if i%2==0:\n",
        "      happy.write(f\"{i+1}. Sim\\n\")\n",
        "    else:\n",
        "      happy.write(f\"{i+1}. Não\\n\")"
      ],
      "metadata": {
        "id": "-6G260PUMj-2"
      },
      "execution_count": 13,
      "outputs": []
    },
    {
      "cell_type": "code",
      "source": [
        "with open(file=\"Vitor.text\", mode='r', encoding='utf-8') as kk:\n",
        "    kkk = kk.read()"
      ],
      "metadata": {
        "id": "2vRGUws8Noti"
      },
      "execution_count": 14,
      "outputs": []
    },
    {
      "cell_type": "code",
      "source": [
        "kkk"
      ],
      "metadata": {
        "colab": {
          "base_uri": "https://localhost:8080/",
          "height": 72
        },
        "id": "6x1wYZ3tNss9",
        "outputId": "00ce24dc-45a1-4871-c4e0-c8e21fbdd605"
      },
      "execution_count": 15,
      "outputs": [
        {
          "output_type": "execute_result",
          "data": {
            "text/plain": [
              "'1. Sim\\n2. Não\\n3. Sim\\n4. Não\\n5. Sim\\n6. Não\\n7. Sim\\n8. Não\\n9. Sim\\n10. Não\\n11. Sim\\n12. Não\\n13. Sim\\n14. Não\\n15. Sim\\n16. Não\\n17. Sim\\n18. Não\\n19. Sim\\n20. Não\\n21. Sim\\n22. Não\\n23. Sim\\n24. Não\\n25. Sim\\n26. Não\\n27. Sim\\n28. Não\\n29. Sim\\n30. Não\\n31. Sim\\n32. Não\\n33. Sim\\n34. Não\\n35. Sim\\n36. Não\\n37. Sim\\n38. Não\\n39. Sim\\n40. Não\\n41. Sim\\n42. Não\\n43. Sim\\n44. Não\\n45. Sim\\n46. Não\\n47. Sim\\n48. Não\\n49. Sim\\n50. Não\\n'"
            ],
            "application/vnd.google.colaboratory.intrinsic+json": {
              "type": "string"
            }
          },
          "metadata": {},
          "execution_count": 15
        }
      ]
    },
    {
      "cell_type": "code",
      "source": [
        "print(kkk)"
      ],
      "metadata": {
        "id": "zqPg1OETNoll",
        "colab": {
          "base_uri": "https://localhost:8080/"
        },
        "outputId": "4a63831c-27e3-4132-e064-260b05bac686"
      },
      "execution_count": 16,
      "outputs": [
        {
          "output_type": "stream",
          "name": "stdout",
          "text": [
            "1. Sim\n",
            "2. Não\n",
            "3. Sim\n",
            "4. Não\n",
            "5. Sim\n",
            "6. Não\n",
            "7. Sim\n",
            "8. Não\n",
            "9. Sim\n",
            "10. Não\n",
            "11. Sim\n",
            "12. Não\n",
            "13. Sim\n",
            "14. Não\n",
            "15. Sim\n",
            "16. Não\n",
            "17. Sim\n",
            "18. Não\n",
            "19. Sim\n",
            "20. Não\n",
            "21. Sim\n",
            "22. Não\n",
            "23. Sim\n",
            "24. Não\n",
            "25. Sim\n",
            "26. Não\n",
            "27. Sim\n",
            "28. Não\n",
            "29. Sim\n",
            "30. Não\n",
            "31. Sim\n",
            "32. Não\n",
            "33. Sim\n",
            "34. Não\n",
            "35. Sim\n",
            "36. Não\n",
            "37. Sim\n",
            "38. Não\n",
            "39. Sim\n",
            "40. Não\n",
            "41. Sim\n",
            "42. Não\n",
            "43. Sim\n",
            "44. Não\n",
            "45. Sim\n",
            "46. Não\n",
            "47. Sim\n",
            "48. Não\n",
            "49. Sim\n",
            "50. Não\n",
            "\n"
          ]
        }
      ]
    },
    {
      "cell_type": "code",
      "source": [
        "salvar_direto = open(\"Vitor.text\", 'r')\n",
        "print(salvar_direto)\n",
        "salvar_direto"
      ],
      "metadata": {
        "colab": {
          "base_uri": "https://localhost:8080/"
        },
        "id": "YPGTpHRbOBke",
        "outputId": "9a5b85f4-b856-41b2-8f78-7edda2151108"
      },
      "execution_count": 12,
      "outputs": [
        {
          "output_type": "stream",
          "name": "stdout",
          "text": [
            "<_io.TextIOWrapper name='Vitor.text' mode='r' encoding='UTF-8'>\n"
          ]
        },
        {
          "output_type": "execute_result",
          "data": {
            "text/plain": [
              "<_io.TextIOWrapper name='Vitor.text' mode='r' encoding='UTF-8'>"
            ]
          },
          "metadata": {},
          "execution_count": 12
        }
      ]
    },
    {
      "cell_type": "code",
      "source": [
        "print(salvar_direto.readline()) #print(salvar_direto.readlines())"
      ],
      "metadata": {
        "colab": {
          "base_uri": "https://localhost:8080/"
        },
        "id": "DuA89mY_Oqjx",
        "outputId": "51511482-f61a-4636-ffc6-c5f2705a08dd"
      },
      "execution_count": 21,
      "outputs": [
        {
          "output_type": "stream",
          "name": "stdout",
          "text": [
            "5. Sim\n",
            "\n"
          ]
        }
      ]
    },
    {
      "cell_type": "code",
      "execution_count": 22,
      "metadata": {
        "id": "4XIuMfsEmxZ7"
      },
      "outputs": [],
      "source": [
        "with open(file=\"ArthurKaynan.txt\", mode='r', encoding='utf-8') as f:\n",
        "    output = f.read()"
      ]
    },
    {
      "cell_type": "code",
      "execution_count": 23,
      "metadata": {
        "scrolled": true,
        "colab": {
          "base_uri": "https://localhost:8080/",
          "height": 90
        },
        "id": "M7c8kWn5mxZ8",
        "outputId": "0f882873-6071-4979-d824-6d03279c847c"
      },
      "outputs": [
        {
          "output_type": "execute_result",
          "data": {
            "text/plain": [
              "'آرتور_کاینان1\\nآرتور_کاینان2\\nآرتور_کاینان3\\nآرتور_کاینان4\\nآرتور_کاینان5\\nآرتور_کاینان6\\nآرتور_کاینان7\\nآرتور_کاینان8\\nآرتور_کاینان9\\nآرتور_کاینان10\\nآرتور_کاینان11\\nآرتور_کاینان12\\nآرتور_کاینان13\\nآرتور_کاینان14\\nآرتور_کاینان15\\nآرتور_کاینان16\\nآرتور_کاینان17\\nآرتور_کاینان18\\nآرتور_کاینان19\\nآرتور_کاینان20\\nآرتور_کاینان21\\nآرتور_کاینان22\\nآرتور_کاینان23\\nآرتور_کاینان24\\nآرتور_کاینان25\\nآرتور_کاینان26\\nآرتور_کاینان27\\nآرتور_کاینان28\\nآرتور_کاینان29\\nآرتور_کاینان30\\nآرتور_کاینان31\\nآرتور_کاینان32\\nآرتور_کاینان33\\nآرتور_کاینان34\\nآرتور_کاینان35\\nآرتور_کاینان36\\nآرتور_کاینان37\\nآرتور_کاینان38\\nآرتور_کاینان39\\nآرتور_کاینان40\\nآرتور_کاینان41\\nآرتور_کاینان42\\nآرتور_کاینان43\\nآرتور_کاینان44\\nآرتور_کاینان45\\nآرتور_کاینان46\\nآرتور_کاینان47\\nآرتور_کاینان48\\nآرتور_کاینان49\\nآرتور_کاینان50\\nآرتور_کاینان51\\nآرتور_کاینان52\\nآرتور_کاینان53\\nآرتور_کاینان54\\nآرتور_کاینان55\\nآرتور_کاینان56\\nآرتور_کاینان57\\nآرتور_کاینان58\\nآرتور_کاینان59\\nآرتور_کاینان60\\nآرتور_کاینان61\\nآرتور_کاینان62\\nآرتور_کاینان63\\nآرتور_کاینان64\\nآرتور_کاینان65\\nآرتور_کاینان66\\nآرتور_کاینان67\\nآرتور_کاینان68\\nآرتور_کاینان69\\nآرتور_کاینان70\\nآرتور_کاینان71\\nآرتور_کاینان72\\nآرتور_کاینان73\\nآرتور_کاینان74\\nآرتور_کاینان75\\nآرتور_کاینان76\\nآرتور_کاینان77\\nآرتور_کاینان78\\nآرتور_کاینان79\\nآرتور_کاینان80\\nآرتور_کاینان81\\nآرتور_کاینان82\\nآرتور_کاینان83\\nآرتور_کاینان84\\nآرتور_کاینان85\\nآرتور_کاینان86\\nآرتور_کاینان87\\nآرتور_کاینان88\\nآرتور_کاینان89\\nآرتور_کاینان90\\nآرتور_کاینان91\\nآرتور_کاینان92\\nآرتور_کاینان93\\nآرتور_کاینان94\\nآرتور_کاینان95\\nآرتور_کاینان96\\nآرتور_کاینان97\\nآرتور_کاینان98\\nآرتور_کاینان99\\nآرتور_کاینان100\\nآرتور_کاینان101\\nآرتور_کاینان102\\nآرتور_کاینان103\\nآرتور_کاینان104\\nآرتور_کاینان105\\nآرتور_کاینان106\\nآرتور_کاینان107\\nآرتور_کاینان108\\nآرتور_کاینان109\\nآرتور_کاینان110\\nآرتور_کاینان111\\nآرتور_کاینان112\\nآرتور_کاینان113\\nآرتور_کاینان114\\nآرتور_کاینان115\\nآرتور_کاینان116\\nآرتور_کاینان117\\nآرتور_کاینان118\\nآرتور_کاینان119\\nآرتور_کاینان120\\nآرتور_کاینان121\\nآرتور_کاینان122\\nآرتور_کاینان123\\nآرتور_کاینان124\\nآرتور_کاینان125\\nآرتور_کاینان126\\nآرتور_کاینان127\\nآرتور_کاینان128\\nآرتور_کاینان129\\nآرتور_کاینان130\\nآرتور_کاینان131\\nآرتور_کاینان132\\nآرتور_کاینان133\\nآرتور_کاینان134\\nآرتور_کاینان135\\nآرتور_کاینان136\\nآرتور_کاینان137\\nآرتور_کاینان138\\nآرتور_کاینان139\\nآرتور_کاینان140\\nآرتور_کاینان141\\nآرتور_کاینان142\\nآرتور_کاینان143\\nآرتور_کاینان144\\nآرتور_کاینان145\\nآرتور_کاینان146\\nآرتور_کاینان147\\nآرتور_کاینان148\\nآرتور_کاینان149\\nآرتور_کاینان150\\nآرتور_کاینان151\\nآرتور_کاینان152\\nآرتور_کاینان153\\nآرتور_کاینان154\\nآرتور_کاینان155\\nآرتور_کاینان156\\nآرتور_کاینان157\\nآرتور_کاینان158\\nآرتور_کاینان159\\nآرتور_کاینان160\\nآرتور_کاینان161\\nآرتور_کاینان162\\nآرتور_کاینان163\\nآرتور_کاینان164\\nآرتور_کاینان165\\nآرتور_کاینان166\\nآرتور_کاینان167\\nآرتور_کاینان168\\nآرتور_کاینان169\\nآرتور_کاینان170\\nآرتور_کاینان171\\nآرتور_کاینان172\\nآرتور_کاینان173\\nآرتور_کاینان174\\nآرتور_کاینان175\\nآرتور_کاینان176\\nآرتور_کاینان177\\nآرتور_کاینان178\\nآرتور_کاینان179\\nآرتور_کاینان180\\nآرتور_کاینان181\\nآرتور_کاینان182\\nآرتور_کاینان183\\nآرتور_کاینان184\\nآرتور_کاینان185\\nآرتور_کاینان186\\nآرتور_کاینان187\\nآرتور_کاینان188\\nآرتور_کاینان189\\nآرتور_کاینان190\\nآرتور_کاینان191\\nآرتور_کاینان192\\nآرتور_کاینان193\\nآرتور_کاینان194\\nآرتور_کاینان195\\nآرتور_کاینان196\\nآرتور_کاینان197\\nآرتور_کاینان198\\nآرتور_کاینان199\\nآرتور_کاینان200\\n'"
            ],
            "application/vnd.google.colaboratory.intrinsic+json": {
              "type": "string"
            }
          },
          "metadata": {},
          "execution_count": 23
        }
      ],
      "source": [
        "output"
      ]
    },
    {
      "cell_type": "code",
      "execution_count": null,
      "metadata": {
        "id": "q4deTJp9mxZ9"
      },
      "outputs": [],
      "source": [
        "print(output)"
      ]
    },
    {
      "cell_type": "code",
      "execution_count": 25,
      "metadata": {
        "id": "dpt1bKhamxZ-"
      },
      "outputs": [],
      "source": [
        "f = open(file=\"ArthurKaynan.txt\", mode='r', encoding='utf-8')"
      ]
    },
    {
      "cell_type": "code",
      "execution_count": 28,
      "metadata": {
        "colab": {
          "base_uri": "https://localhost:8080/",
          "height": 36
        },
        "id": "Tns0NpXfmxZ_",
        "outputId": "a53a7a1c-c60c-43a6-e58d-fa4d22e22508"
      },
      "outputs": [
        {
          "output_type": "execute_result",
          "data": {
            "text/plain": [
              "'آرتور_کاینان3\\n'"
            ],
            "application/vnd.google.colaboratory.intrinsic+json": {
              "type": "string"
            }
          },
          "metadata": {},
          "execution_count": 28
        }
      ],
      "source": [
        "f.readline()"
      ]
    },
    {
      "cell_type": "code",
      "execution_count": 32,
      "metadata": {
        "id": "bFKqQm04mxZ_"
      },
      "outputs": [],
      "source": [
        "with open(file=\"ArthurKaynan.txt\", mode='r', encoding='utf-8') as f:\n",
        "    output1 = f.readlines()"
      ]
    },
    {
      "cell_type": "code",
      "execution_count": null,
      "metadata": {
        "id": "d5eNpNuBmxZ_"
      },
      "outputs": [],
      "source": [
        "output1"
      ]
    },
    {
      "cell_type": "code",
      "execution_count": 34,
      "metadata": {
        "colab": {
          "base_uri": "https://localhost:8080/"
        },
        "id": "SaMp28XtmxaA",
        "outputId": "766b3740-0f86-43f6-e33a-dffb1b782a92"
      },
      "outputs": [
        {
          "output_type": "execute_result",
          "data": {
            "text/plain": [
              "list"
            ]
          },
          "metadata": {},
          "execution_count": 34
        }
      ],
      "source": [
        "type(output1)"
      ]
    },
    {
      "cell_type": "code",
      "execution_count": 35,
      "metadata": {
        "colab": {
          "base_uri": "https://localhost:8080/"
        },
        "id": "w5UJ9zBTmxaA",
        "outputId": "874a7755-b218-4353-d0ca-676b9d5c959f"
      },
      "outputs": [
        {
          "output_type": "execute_result",
          "data": {
            "text/plain": [
              "200"
            ]
          },
          "metadata": {},
          "execution_count": 35
        }
      ],
      "source": [
        "len(output1)"
      ]
    }
  ],
  "metadata": {
    "kernelspec": {
      "display_name": "Python 3",
      "language": "python",
      "name": "python3"
    },
    "language_info": {
      "codemirror_mode": {
        "name": "ipython",
        "version": 3
      },
      "file_extension": ".py",
      "mimetype": "text/x-python",
      "name": "python",
      "nbconvert_exporter": "python",
      "pygments_lexer": "ipython3",
      "version": "3.7.4"
    },
    "colab": {
      "provenance": []
    }
  },
  "nbformat": 4,
  "nbformat_minor": 0
}